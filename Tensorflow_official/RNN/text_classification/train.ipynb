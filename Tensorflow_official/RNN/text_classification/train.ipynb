{
 "nbformat": 4,
 "nbformat_minor": 0,
 "metadata": {
  "kernelspec": {
   "display_name": "Python 3.7.4 64-bit ('base': conda)",
   "language": "python",
   "name": "python37464bitbaseconda29358b314876471fa2bf956c74569a96"
  },
  "language_info": {
   "codemirror_mode": {
    "name": "ipython",
    "version": 2
   },
   "file_extension": ".py",
   "mimetype": "text/x-python",
   "name": "python",
   "nbconvert_exporter": "python",
   "pygments_lexer": "ipython2",
   "version": "2.7.6"
  },
  "colab": {
   "name": "text_classification.ipynb",
   "provenance": []
  },
  "accelerator": "GPU"
 },
 "cells": [
  {
   "cell_type": "markdown",
   "metadata": {
    "collapsed": true,
    "pycharm": {
     "name": "#%% md\n"
    },
    "id": "oklqgV4pQspl",
    "colab_type": "text"
   },
   "source": [
    "文本分类，把一句话分类为 消极 和 积极。"
   ]
  },
  {
   "cell_type": "code",
   "metadata": {
    "pycharm": {
     "name": "#%%\n"
    },
    "id": "CyGwb7I4Qspl",
    "colab_type": "code",
    "colab": {}
   },
   "source": [
    "import tensorflow as tf\n",
    "from tensorflow import keras\n",
    "import tensorflow_datasets as tfds\n",
    "\n",
    "import matplotlib.pyplot as plt"
   ],
   "execution_count": 0,
   "outputs": []
  },
  {
   "cell_type": "code",
   "metadata": {
    "pycharm": {
     "name": "#%%\n"
    },
    "id": "AdFjeJe2Qspo",
    "colab_type": "code",
    "colab": {}
   },
   "source": [
    "dataset, info = tfds.load('imdb_reviews/subwords8k',\n",
    "                          with_info=True,\n",
    "                          as_supervised=True)\n",
    "train_dataset, test_dataset = dataset['train'], dataset['test']"
   ],
   "execution_count": 0,
   "outputs": []
  },
  {
   "cell_type": "code",
   "metadata": {
    "pycharm": {
     "name": "#%%\n"
    },
    "id": "nf0Eae_nQspq",
    "colab_type": "code",
    "colab": {}
   },
   "source": [
    "encoder = info.features['text'].encoder"
   ],
   "execution_count": 0,
   "outputs": []
  },
  {
   "cell_type": "code",
   "metadata": {
    "pycharm": {
     "name": "#%%\n"
    },
    "id": "t1IqnNW8Qspt",
    "colab_type": "code",
    "colab": {
     "base_uri": "https://localhost:8080/",
     "height": 34
    },
    "outputId": "ad3676f1-0129-4c15-928c-c0ec102bb5a6"
   },
   "source": [
    "# 词汇表大小\n",
    "print(encoder.vocab_size)"
   ],
   "execution_count": 41,
   "outputs": [
    {
     "output_type": "stream",
     "text": [
      "8185\n"
     ],
     "name": "stdout"
    }
   ]
  },
  {
   "cell_type": "code",
   "metadata": {
    "pycharm": {
     "name": "#%%\n"
    },
    "id": "di6TpuPFQspv",
    "colab_type": "code",
    "colab": {
     "base_uri": "https://localhost:8080/",
     "height": 34
    },
    "outputId": "4fcd3117-8a42-42ae-f489-5f41d004bab1"
   },
   "source": [
    "# 词汇表的词\n",
    "print(encoder.decode([1, 2, 3, 4, 5, 6, 7, 8, 9, 10,\n",
    "                      11, 12, 13, 14, 15, 16, 17, 18, 19, 20]))"
   ],
   "execution_count": 44,
   "outputs": [
    {
     "output_type": "stream",
     "text": [
      "the , . a and of to s is brin I that this it  />< />was The as \n"
     ],
     "name": "stdout"
    }
   ]
  },
  {
   "cell_type": "code",
   "metadata": {
    "pycharm": {
     "name": "#%%\n"
    },
    "id": "k7kyjDoxQspz",
    "colab_type": "code",
    "colab": {}
   },
   "source": [
    "sample_string = 'I am a sentence.'"
   ],
   "execution_count": 0,
   "outputs": []
  },
  {
   "cell_type": "code",
   "metadata": {
    "pycharm": {
     "name": "#%%\n"
    },
    "id": "8JCaJWEHQsp1",
    "colab_type": "code",
    "colab": {
     "base_uri": "https://localhost:8080/",
     "height": 34
    },
    "outputId": "009694f0-262a-4166-cc5a-ec667f2d6076"
   },
   "source": [
    "encoded_string = encoder.encode(sample_string)\n",
    "encoded_string"
   ],
   "execution_count": 46,
   "outputs": [
    {
     "output_type": "execute_result",
     "data": {
      "text/plain": [
       "[12, 258, 4, 7745, 7975]"
      ]
     },
     "metadata": {
      "tags": []
     },
     "execution_count": 46
    }
   ]
  },
  {
   "cell_type": "code",
   "metadata": {
    "pycharm": {
     "name": "#%%\n"
    },
    "id": "w2N9ShPLQsp3",
    "colab_type": "code",
    "colab": {
     "base_uri": "https://localhost:8080/",
     "height": 34
    },
    "outputId": "090a541c-50f6-48c6-e1c6-90d34e27ed28"
   },
   "source": [
    "original_string = encoder.decode(encoded_string)\n",
    "original_string"
   ],
   "execution_count": 47,
   "outputs": [
    {
     "output_type": "execute_result",
     "data": {
      "text/plain": [
       "'I am a sentence.'"
      ]
     },
     "metadata": {
      "tags": []
     },
     "execution_count": 47
    }
   ]
  },
  {
   "cell_type": "code",
   "metadata": {
    "pycharm": {
     "name": "#%%\n"
    },
    "id": "MMxgX-dvQsp5",
    "colab_type": "code",
    "colab": {
     "base_uri": "https://localhost:8080/",
     "height": 102
    },
    "outputId": "1026f5ed-fa01-4330-b331-1802b303c228"
   },
   "source": [
    "for index in encoded_string:\n",
    "    print('{} --> {}'.format(index, encoder.decode([index])))"
   ],
   "execution_count": 48,
   "outputs": [
    {
     "output_type": "stream",
     "text": [
      "12 --> I \n",
      "258 --> am \n",
      "4 --> a \n",
      "7745 --> sentence\n",
      "7975 --> .\n"
     ],
     "name": "stdout"
    }
   ]
  },
  {
   "cell_type": "markdown",
   "metadata": {
    "collapsed": false,
    "pycharm": {
     "name": "#%% md\n"
    },
    "id": "pkdZ5gTkQsp7",
    "colab_type": "text"
   },
   "source": [
    "### Prepare the data"
   ]
  },
  {
   "cell_type": "code",
   "metadata": {
    "pycharm": {
     "name": "#%%\n"
    },
    "id": "yzH_3f7rQsp8",
    "colab_type": "code",
    "colab": {}
   },
   "source": [
    "train_batches = train_dataset.shuffle(10000).padded_batch(64, padded_shapes=([None],[]))\n",
    "test_batches = test_dataset.shuffle(10000).padded_batch(64, padded_shapes=([None],[]))"
   ],
   "execution_count": 0,
   "outputs": []
  },
  {
   "cell_type": "code",
   "metadata": {
    "pycharm": {
     "name": "#%%\n"
    },
    "id": "rfzXp1qmQsp-",
    "colab_type": "code",
    "colab": {
     "base_uri": "https://localhost:8080/",
     "height": 289
    },
    "outputId": "2d185c85-cd13-487b-ca1f-205e397fd45e"
   },
   "source": [
    "model = keras.Sequential([\n",
    "    keras.layers.Embedding(encoder.vocab_size, 64),\n",
    "    keras.layers.Bidirectional(keras.layers.LSTM(64)),\n",
    "    keras.layers.Dense(64, activation='relu'),\n",
    "    keras.layers.Dense(1)\n",
    "])\n",
    "\n",
    "model.summary()"
   ],
   "execution_count": 51,
   "outputs": [
    {
     "output_type": "stream",
     "text": [
      "Model: \"sequential_3\"\n",
      "_________________________________________________________________\n",
      "Layer (type)                 Output Shape              Param #   \n",
      "=================================================================\n",
      "embedding_3 (Embedding)      (None, None, 64)          523840    \n",
      "_________________________________________________________________\n",
      "bidirectional_3 (Bidirection (None, 128)               66048     \n",
      "_________________________________________________________________\n",
      "dense_6 (Dense)              (None, 64)                8256      \n",
      "_________________________________________________________________\n",
      "dense_7 (Dense)              (None, 1)                 65        \n",
      "=================================================================\n",
      "Total params: 598,209\n",
      "Trainable params: 598,209\n",
      "Non-trainable params: 0\n",
      "_________________________________________________________________\n"
     ],
     "name": "stdout"
    }
   ]
  },
  {
   "cell_type": "code",
   "metadata": {
    "pycharm": {
     "name": "#%%\n"
    },
    "id": "KAswqdvqQsqA",
    "colab_type": "code",
    "colab": {}
   },
   "source": [
    "model.compile(loss=keras.losses.BinaryCrossentropy(from_logits=True),\n",
    "              optimizer=keras.optimizers.Adam(1e-4),\n",
    "              metrics=['accuracy'])"
   ],
   "execution_count": 0,
   "outputs": []
  },
  {
   "cell_type": "code",
   "metadata": {
    "pycharm": {
     "name": "#%%\n"
    },
    "id": "p6wqYL98QsqC",
    "colab_type": "code",
    "colab": {
     "base_uri": "https://localhost:8080/",
     "height": 357
    },
    "outputId": "3daba83b-d053-4b38-f7b2-f536fafd4da9"
   },
   "source": [
    "history = model.fit(train_batches, epochs=10,\n",
    "                    validation_data=test_batches,\n",
    "                    validation_steps=30)"
   ],
   "execution_count": 53,
   "outputs": [
    {
     "output_type": "stream",
     "text": [
      "Epoch 1/10\n",
      "391/391 [==============================] - 56s 143ms/step - loss: 0.6605 - accuracy: 0.5425 - val_loss: 0.5339 - val_accuracy: 0.7021\n",
      "Epoch 2/10\n",
      "391/391 [==============================] - 56s 143ms/step - loss: 0.4043 - accuracy: 0.8096 - val_loss: 0.3552 - val_accuracy: 0.8490\n",
      "Epoch 3/10\n",
      "391/391 [==============================] - 56s 142ms/step - loss: 0.2715 - accuracy: 0.8901 - val_loss: 0.3181 - val_accuracy: 0.8724\n",
      "Epoch 4/10\n",
      "391/391 [==============================] - 56s 143ms/step - loss: 0.2290 - accuracy: 0.9119 - val_loss: 0.3556 - val_accuracy: 0.8281\n",
      "Epoch 5/10\n",
      "391/391 [==============================] - 56s 143ms/step - loss: 0.1974 - accuracy: 0.9260 - val_loss: 0.3352 - val_accuracy: 0.8719\n",
      "Epoch 6/10\n",
      "391/391 [==============================] - 56s 143ms/step - loss: 0.1695 - accuracy: 0.9394 - val_loss: 0.3679 - val_accuracy: 0.8578\n",
      "Epoch 7/10\n",
      "391/391 [==============================] - 56s 142ms/step - loss: 0.1601 - accuracy: 0.9435 - val_loss: 0.3570 - val_accuracy: 0.8552\n",
      "Epoch 8/10\n",
      "391/391 [==============================] - 55s 142ms/step - loss: 0.1373 - accuracy: 0.9545 - val_loss: 0.3572 - val_accuracy: 0.8604\n",
      "Epoch 9/10\n",
      "391/391 [==============================] - 55s 141ms/step - loss: 0.1341 - accuracy: 0.9559 - val_loss: 0.4313 - val_accuracy: 0.8589\n",
      "Epoch 10/10\n",
      "391/391 [==============================] - 56s 143ms/step - loss: 0.1177 - accuracy: 0.9624 - val_loss: 0.4045 - val_accuracy: 0.8745\n"
     ],
     "name": "stdout"
    }
   ]
  },
  {
   "cell_type": "code",
   "metadata": {
    "pycharm": {
     "name": "#%%\n"
    },
    "id": "NNc7Lp1VQsqE",
    "colab_type": "code",
    "colab": {
     "base_uri": "https://localhost:8080/",
     "height": 279
    },
    "outputId": "de0ce9a2-9149-4f95-dbe0-ea455570283c"
   },
   "source": [
    "plt.plot(history.history['loss'])\n",
    "plt.plot(history.history['val_loss'], '')\n",
    "plt.xlabel(\"Epochs\")\n",
    "plt.ylabel('loss')\n",
    "plt.legend(['loss', 'val_loss'])\n",
    "plt.show()\n"
   ],
   "execution_count": 54,
   "outputs": [
    {
     "output_type": "display_data",
     "data": {
      "image/png": "[encoded data removed]",
      "text/plain": [
       "<Figure size 432x288 with 1 Axes>"
      ]
     },
     "metadata": {
      "tags": [],
      "needs_background": "light"
     }
    }
   ]
  },
  {
   "cell_type": "code",
   "metadata": {
    "pycharm": {
     "name": "#%%\n"
    },
    "id": "cbqPi36CQsqG",
    "colab_type": "code",
    "colab": {
     "base_uri": "https://localhost:8080/",
     "height": 279
    },
    "outputId": "f27bc134-39ce-41f1-def3-1adbd3034310"
   },
   "source": [
    "plt.plot(history.history['accuracy'])\n",
    "plt.plot(history.history['val_accuracy'], '')\n",
    "plt.xlabel(\"Epochs\")\n",
    "plt.ylabel('accuracy')\n",
    "plt.legend(['accuracy', 'val_accuracy'])\n",
    "plt.show()"
   ],
   "execution_count": 55,
   "outputs": [
    {
     "output_type": "display_data",
     "data": {
      "image/png": "[encoded data removed]",
      "text/plain": [
       "<Figure size 432x288 with 1 Axes>"
      ]
     },
     "metadata": {
      "tags": [],
      "needs_background": "light"
     }
    }
   ]
  },
  {
   "cell_type": "code",
   "metadata": {
    "id": "E-m1HYsCQ5Qz",
    "colab_type": "code",
    "colab": {},
    "pycharm": {
     "name": "#%%\n"
    }
   },
   "source": [
    "model.save('colab_4-13-10-11.h5')\n"
   ],
   "execution_count": 0,
   "outputs": []
  }
 ]
}
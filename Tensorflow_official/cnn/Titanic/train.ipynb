{
 "cells": [
  {
   "cell_type": "code",
   "execution_count": 310,
   "metadata": {
    "collapsed": true,
    "pycharm": {
     "is_executing": false
    }
   },
   "outputs": [],
   "source": [
    "import sys\n",
    "import urllib.request\n",
    "import os\n",
    "import numpy as np \n",
    "import pandas as pd \n",
    "import matplotlib.pyplot as plt\n",
    "import tensorflow as tf \n",
    "from tensorflow.keras import models,layers\n",
    "\n"
   ]
  },
  {
   "cell_type": "code",
   "execution_count": 311,
   "outputs": [
    {
     "name": "stdout",
     "text": [
      "data input success\n"
     ],
     "output_type": "stream"
    }
   ],
   "source": [
    "'''如果本地没有数据集，则从服务器上拉取'''\n",
    "filePath='./data/titanic.xls'\n",
    "url = 'http://biostat.mc.vanderbilt.edu/wiki/pub/Main/DataSets/titanic3.xls'\n",
    "if not os.path.isfile(filePath):\n",
    "    result=urllib.request.urlretrieve(url,filePath)\n",
    "    print('success download:'+result)\n",
    "print('data input success')"
   ],
   "metadata": {
    "collapsed": false,
    "pycharm": {
     "name": "#%%\n",
     "is_executing": false
    }
   }
  },
  {
   "cell_type": "code",
   "execution_count": 303,
   "outputs": [
    {
     "name": "stdout",
     "text": [
      "      pclass  survived                            name     sex  age  sibsp  \\\n",
      "1000       3         1    McCormack, Mr. Thomas Joseph    male  NaN      0   \n",
      "1001       3         1              McCoy, Miss. Agnes  female  NaN      2   \n",
      "1002       3         1             McCoy, Miss. Alicia  female  NaN      2   \n",
      "1003       3         1              McCoy, Mr. Bernard    male  NaN      2   \n",
      "1004       3         1  McDermott, Miss. Brigdet Delia  female  NaN      0   \n",
      "\n",
      "      parch  ticket     fare cabin embarked boat  body home.dest  \n",
      "1000      0  367228   7.7500   NaN        Q  NaN   NaN       NaN  \n",
      "1001      0  367226  23.2500   NaN        Q   16   NaN       NaN  \n",
      "1002      0  367226  23.2500   NaN        Q   16   NaN       NaN  \n",
      "1003      0  367226  23.2500   NaN        Q   16   NaN       NaN  \n",
      "1004      0  330932   7.7875   NaN        Q   13   NaN       NaN  \n",
      "   pclass  survived                                             name     sex  \\\n",
      "0       1         1                    Allen, Miss. Elisabeth Walton  female   \n",
      "1       1         1                   Allison, Master. Hudson Trevor    male   \n",
      "2       1         0                     Allison, Miss. Helen Loraine  female   \n",
      "3       1         0             Allison, Mr. Hudson Joshua Creighton    male   \n",
      "4       1         0  Allison, Mrs. Hudson J C (Bessie Waldo Daniels)  female   \n",
      "\n",
      "       age  sibsp  parch  ticket      fare    cabin embarked boat   body  \\\n",
      "0  29.0000      0      0   24160  211.3375       B5        S    2    NaN   \n",
      "1   0.9167      1      2  113781  151.5500  C22 C26        S   11    NaN   \n",
      "2   2.0000      1      2  113781  151.5500  C22 C26        S  NaN    NaN   \n",
      "3  30.0000      1      2  113781  151.5500  C22 C26        S  NaN  135.0   \n",
      "4  25.0000      1      2  113781  151.5500  C22 C26        S  NaN    NaN   \n",
      "\n",
      "                         home.dest  \n",
      "0                     St Louis, MO  \n",
      "1  Montreal, PQ / Chesterville, ON  \n",
      "2  Montreal, PQ / Chesterville, ON  \n",
      "3  Montreal, PQ / Chesterville, ON  \n",
      "4  Montreal, PQ / Chesterville, ON  \n"
     ],
     "output_type": "stream"
    }
   ],
   "source": [
    "excel=pd.read_excel(filePath)\n",
    "\n",
    "dftrain_raw=excel[0:1000]\n",
    "dftest_raw=excel[1000:]\n",
    "print(dftest_raw.head(5))\n",
    "cols=[\n",
    "    'pclass','survived','name',\t'sex','age','sibsp',\n",
    "    'parch','ticket','fare','cabin','embarked',\t\n",
    "    'boat',\t'body',\t'home.dest'\n",
    "]\n",
    "print(dftrain_raw.head(5))"
   ],
   "metadata": {
    "collapsed": false,
    "pycharm": {
     "name": "#%%\n",
     "is_executing": false
    }
   }
  },
  {
   "cell_type": "code",
   "execution_count": 304,
   "outputs": [],
   "source": [
    "dftrain_raw=dftrain_raw.drop(['name','ticket'],axis=1)#丢弃 ‘ticket’这一列\n",
    "\n",
    "#print(dftrain_raw.head(5))"
   ],
   "metadata": {
    "collapsed": false,
    "pycharm": {
     "name": "#%%\n",
     "is_executing": false
    }
   }
  },
  {
   "cell_type": "code",
   "execution_count": 305,
   "outputs": [
    {
     "name": "stdout",
     "text": [
      "pclass         0\n",
      "survived       0\n",
      "sex            0\n",
      "age          139\n",
      "sibsp          0\n",
      "parch          0\n",
      "fare           0\n",
      "cabin        717\n",
      "embarked       2\n",
      "boat         583\n",
      "body         905\n",
      "home.dest    258\n",
      "dtype: int64\n",
      "0    577\n",
      "1    423\n",
      "Name: survived, dtype: int64\n"
     ],
     "output_type": "stream"
    },
    {
     "data": {
      "text/plain": "<matplotlib.figure.Figure at 0x17b91634b70>",
      "image/png": "[encoded data removed]"
     },
     "metadata": {},
     "output_type": "display_data"
    }
   ],
   "source": [
    "print(dftrain_raw.isnull().sum())#每一列中的空cell的个数\n",
    "print(dftrain_raw['survived'].value_counts())\n",
    "draft=dftrain_raw['survived'].value_counts().plot(kind = 'bar',\n",
    "     figsize = (12,8),fontsize=15,rot = 0)\n",
    "draft.set_title('Count of survived')\n",
    "draft.set_ylabel('counts',fontsize=15)\n",
    "plt.show()"
   ],
   "metadata": {
    "collapsed": false,
    "pycharm": {
     "name": "#%%\n",
     "is_executing": false
    }
   }
  },
  {
   "cell_type": "code",
   "execution_count": 306,
   "outputs": [
    {
     "data": {
      "text/plain": "<matplotlib.figure.Figure at 0x17b90daf358>",
      "image/png": "[encoded data removed]"
     },
     "metadata": {},
     "output_type": "display_data"
    }
   ],
   "source": [
    "draft=dftrain_raw['age'].plot(\n",
    "    kind='hist',figsize=(12,8),bins=20,color='green',\n",
    "    fontsize=15,rot=0)\n",
    "draft.set_title('Age distribution')\n",
    "draft.set_ylabel('counts')\n",
    "draft.set_xlabel('Age')\n",
    "plt.show()"
   ],
   "metadata": {
    "collapsed": false,
    "pycharm": {
     "name": "#%%\n",
     "is_executing": false
    }
   }
  },
  {
   "cell_type": "code",
   "execution_count": 307,
   "outputs": [
    {
     "data": {
      "text/plain": "<matplotlib.figure.Figure at 0x17b8dc74390>",
      "image/png": "[encoded data removed]"
     },
     "metadata": {},
     "output_type": "display_data"
    },
    {
     "name": "stdout",
     "text": [
      "Age distribution of survived and not survived\n"
     ],
     "output_type": "stream"
    }
   ],
   "source": [
    "#把存活的人的age全部获取，把序列画在图（age_sur_die）上,在图中画出存活者年龄分布的密度（占比）\n",
    "#dftrain_raw.query('survived==1')['age']#查询符合条件‘survived==1’的年龄，返回的是一个一维序列\n",
    "age_sur_die=dftrain_raw.query('survived==1')['age'].plot(\n",
    "    kind='density',figsize=(12,8),fontsize=15)\n",
    "dftrain_raw.query('survived==0')['age'].plot(\n",
    "    kind='density',figsize=(12,8),fontsize=15)\n",
    "age_sur_die.set_xlabel('age',fontsize=15,color='green')\n",
    "age_sur_die.set_ylabel('portion',fontsize=15,color='green')\n",
    "age_sur_die.legend(['survived==1','survived==0'],fontsize = 12)\n",
    "plt.show()\n",
    "print('Age distribution of survived and not survived')\n"
   ],
   "metadata": {
    "collapsed": false,
    "pycharm": {
     "name": "#%%\n",
     "is_executing": false
    }
   }
  },
  {
   "cell_type": "code",
   "execution_count": 315,
   "outputs": [],
   "source": [
    "def process(dfdata):\n",
    "    dfresult=pd.DataFrame()\n",
    "    '''数据的二值化'''\n",
    "    #dfPclass\n",
    "    #dfPclass=pd.DataFrame()\n",
    "    print(pd.get_dummies(dfdata['pclass']))\n",
    "    dfPclass=pd.get_dummies(dfdata['pclass'])\n",
    "    print(dfPclass.shape)\n",
    "    print(dfPclass.shape[1])\n",
    "    tempdfpclass=pd.DataFrame(data={'A':[],'B':[]})\n",
    "    if dfPclass.shape[1]<pd.get_dummies(excel['pclass']).shape[1]:\n",
    "       i=1\n",
    "       while i<pd.get_dummies(excel['pclass']).shape[1]-dfPclass.shape[1]-1 :\n",
    "           tempdfpclass=pd.concat([tempdfpclass,tempdfpclass],axis=1)\n",
    "           i=i+1\n",
    "       dfPclass=pd.concat([tempdfpclass,dfPclass],axis=1)\n",
    "    print(tempdfpclass.shape)\n",
    "    \n",
    "    dfPclass.columns = ['pclass_' +str(x) for x in  pd.get_dummies(excel['pclass']).columns]\n",
    "    dfresult = pd.concat([dfresult,dfPclass],axis = 1)\n",
    "    dfresult['pclass_1']=dfresult['pclass_1'].fillna(0)\n",
    "    dfresult['pclass_2']=dfresult['pclass_2'].fillna(0)\n",
    "    print(dfresult)\n",
    "    #sex\n",
    "    dfsex=pd.get_dummies(dfdata['sex'])\n",
    "    #dfresult=pd.concat([dfresult,dfsex],axis=0)#frame的上下拼接\n",
    "    dfresult=pd.concat([dfresult,dfsex],axis=1)#frame的左右拼接\n",
    "    \n",
    "    #Age #年龄特征为int32（从源frame中复制过来）若为空的默认填0，\n",
    "    dfresult['age']=dfdata['age'].fillna(0)\n",
    "    dfresult['age_null']=dfdata['age'].isnull().astype('int32')\n",
    "    \n",
    "     #SibSp,Parch,Fare\n",
    "    dfresult['sibsp'] = dfdata['sibsp']\n",
    "    dfresult['parch'] = dfdata['parch']\n",
    "    dfresult['fare'] = dfdata['fare']\n",
    "\n",
    "    #carbin\n",
    "    #添加“所在船舱是否缺失”作为特征\n",
    "    dfresult['cabin_null']=pd.isnull(dfdata['cabin']).astype('int32')\n",
    "    \n",
    "    #embarked\n",
    "    dfembarked=pd.get_dummies(dfdata['embarked'],dummy_na=True)\n",
    "    dfembarked.columns=['embark_'+str(x) for x in dfembarked.columns]\n",
    "    dfresult=pd.concat([dfresult,dfembarked],axis=1)\n",
    "    return (dfresult)"
   ],
   "metadata": {
    "collapsed": false,
    "pycharm": {
     "name": "#%%\n",
     "is_executing": false
    }
   }
  },
  {
   "cell_type": "code",
   "execution_count": 316,
   "outputs": [
    {
     "name": "stdout",
     "text": [
      "     1  2  3\n",
      "0    1  0  0\n",
      "1    1  0  0\n",
      "2    1  0  0\n",
      "3    1  0  0\n",
      "4    1  0  0\n",
      "5    1  0  0\n",
      "6    1  0  0\n",
      "7    1  0  0\n",
      "8    1  0  0\n",
      "9    1  0  0\n",
      "10   1  0  0\n",
      "11   1  0  0\n",
      "12   1  0  0\n",
      "13   1  0  0\n",
      "14   1  0  0\n",
      "15   1  0  0\n",
      "16   1  0  0\n",
      "17   1  0  0\n",
      "18   1  0  0\n",
      "19   1  0  0\n",
      "20   1  0  0\n",
      "21   1  0  0\n",
      "22   1  0  0\n",
      "23   1  0  0\n",
      "24   1  0  0\n",
      "25   1  0  0\n",
      "26   1  0  0\n",
      "27   1  0  0\n",
      "28   1  0  0\n",
      "29   1  0  0\n",
      "..  .. .. ..\n",
      "970  0  0  1\n",
      "971  0  0  1\n",
      "972  0  0  1\n",
      "973  0  0  1\n",
      "974  0  0  1\n",
      "975  0  0  1\n",
      "976  0  0  1\n",
      "977  0  0  1\n",
      "978  0  0  1\n",
      "979  0  0  1\n",
      "980  0  0  1\n",
      "981  0  0  1\n",
      "982  0  0  1\n",
      "983  0  0  1\n",
      "984  0  0  1\n",
      "985  0  0  1\n",
      "986  0  0  1\n",
      "987  0  0  1\n",
      "988  0  0  1\n",
      "989  0  0  1\n",
      "990  0  0  1\n",
      "991  0  0  1\n",
      "992  0  0  1\n",
      "993  0  0  1\n",
      "994  0  0  1\n",
      "995  0  0  1\n",
      "996  0  0  1\n",
      "997  0  0  1\n",
      "998  0  0  1\n",
      "999  0  0  1\n",
      "\n",
      "[1000 rows x 3 columns]\n",
      "(1000, 3)\n",
      "3\n",
      "(0, 2)\n",
      "     pclass_1  pclass_2  pclass_3\n",
      "0           1         0         0\n",
      "1           1         0         0\n",
      "2           1         0         0\n",
      "3           1         0         0\n",
      "4           1         0         0\n",
      "5           1         0         0\n",
      "6           1         0         0\n",
      "7           1         0         0\n",
      "8           1         0         0\n",
      "9           1         0         0\n",
      "10          1         0         0\n",
      "11          1         0         0\n",
      "12          1         0         0\n",
      "13          1         0         0\n",
      "14          1         0         0\n",
      "15          1         0         0\n",
      "16          1         0         0\n",
      "17          1         0         0\n",
      "18          1         0         0\n",
      "19          1         0         0\n",
      "20          1         0         0\n",
      "21          1         0         0\n",
      "22          1         0         0\n",
      "23          1         0         0\n",
      "24          1         0         0\n",
      "25          1         0         0\n",
      "26          1         0         0\n",
      "27          1         0         0\n",
      "28          1         0         0\n",
      "29          1         0         0\n",
      "..        ...       ...       ...\n",
      "970         0         0         1\n",
      "971         0         0         1\n",
      "972         0         0         1\n",
      "973         0         0         1\n",
      "974         0         0         1\n",
      "975         0         0         1\n",
      "976         0         0         1\n",
      "977         0         0         1\n",
      "978         0         0         1\n",
      "979         0         0         1\n",
      "980         0         0         1\n",
      "981         0         0         1\n",
      "982         0         0         1\n",
      "983         0         0         1\n",
      "984         0         0         1\n",
      "985         0         0         1\n",
      "986         0         0         1\n",
      "987         0         0         1\n",
      "988         0         0         1\n",
      "989         0         0         1\n",
      "990         0         0         1\n",
      "991         0         0         1\n",
      "992         0         0         1\n",
      "993         0         0         1\n",
      "994         0         0         1\n",
      "995         0         0         1\n",
      "996         0         0         1\n",
      "997         0         0         1\n",
      "998         0         0         1\n",
      "999         0         0         1\n",
      "\n",
      "[1000 rows x 3 columns]\n",
      "      3\n",
      "1000  1\n",
      "1001  1\n",
      "1002  1\n",
      "1003  1\n",
      "1004  1\n",
      "1005  1\n",
      "1006  1\n",
      "1007  1\n",
      "1008  1\n",
      "1009  1\n",
      "1010  1\n",
      "1011  1\n",
      "1012  1\n",
      "1013  1\n",
      "1014  1\n",
      "1015  1\n",
      "1016  1\n",
      "1017  1\n",
      "1018  1\n",
      "1019  1\n",
      "1020  1\n",
      "1021  1\n",
      "1022  1\n",
      "1023  1\n",
      "1024  1\n",
      "1025  1\n",
      "1026  1\n",
      "1027  1\n",
      "1028  1\n",
      "1029  1\n",
      "...  ..\n",
      "1279  1\n",
      "1280  1\n",
      "1281  1\n",
      "1282  1\n",
      "1283  1\n",
      "1284  1\n",
      "1285  1\n",
      "1286  1\n",
      "1287  1\n",
      "1288  1\n",
      "1289  1\n",
      "1290  1\n",
      "1291  1\n",
      "1292  1\n",
      "1293  1\n",
      "1294  1\n",
      "1295  1\n",
      "1296  1\n",
      "1297  1\n",
      "1298  1\n",
      "1299  1\n",
      "1300  1\n",
      "1301  1\n",
      "1302  1\n",
      "1303  1\n",
      "1304  1\n",
      "1305  1\n",
      "1306  1\n",
      "1307  1\n",
      "1308  1\n",
      "\n",
      "[309 rows x 1 columns]\n",
      "(309, 1)\n",
      "1\n",
      "(0, 2)\n",
      "      pclass_1  pclass_2  pclass_3\n",
      "1000       0.0       0.0         1\n",
      "1001       0.0       0.0         1\n",
      "1002       0.0       0.0         1\n",
      "1003       0.0       0.0         1\n",
      "1004       0.0       0.0         1\n",
      "1005       0.0       0.0         1\n",
      "1006       0.0       0.0         1\n",
      "1007       0.0       0.0         1\n",
      "1008       0.0       0.0         1\n",
      "1009       0.0       0.0         1\n",
      "1010       0.0       0.0         1\n",
      "1011       0.0       0.0         1\n",
      "1012       0.0       0.0         1\n",
      "1013       0.0       0.0         1\n",
      "1014       0.0       0.0         1\n",
      "1015       0.0       0.0         1\n",
      "1016       0.0       0.0         1\n",
      "1017       0.0       0.0         1\n",
      "1018       0.0       0.0         1\n",
      "1019       0.0       0.0         1\n",
      "1020       0.0       0.0         1\n",
      "1021       0.0       0.0         1\n",
      "1022       0.0       0.0         1\n",
      "1023       0.0       0.0         1\n",
      "1024       0.0       0.0         1\n",
      "1025       0.0       0.0         1\n",
      "1026       0.0       0.0         1\n",
      "1027       0.0       0.0         1\n",
      "1028       0.0       0.0         1\n",
      "1029       0.0       0.0         1\n",
      "...        ...       ...       ...\n",
      "1279       0.0       0.0         1\n",
      "1280       0.0       0.0         1\n",
      "1281       0.0       0.0         1\n",
      "1282       0.0       0.0         1\n",
      "1283       0.0       0.0         1\n",
      "1284       0.0       0.0         1\n",
      "1285       0.0       0.0         1\n",
      "1286       0.0       0.0         1\n",
      "1287       0.0       0.0         1\n",
      "1288       0.0       0.0         1\n",
      "1289       0.0       0.0         1\n",
      "1290       0.0       0.0         1\n",
      "1291       0.0       0.0         1\n",
      "1292       0.0       0.0         1\n",
      "1293       0.0       0.0         1\n",
      "1294       0.0       0.0         1\n",
      "1295       0.0       0.0         1\n",
      "1296       0.0       0.0         1\n",
      "1297       0.0       0.0         1\n",
      "1298       0.0       0.0         1\n",
      "1299       0.0       0.0         1\n",
      "1300       0.0       0.0         1\n",
      "1301       0.0       0.0         1\n",
      "1302       0.0       0.0         1\n",
      "1303       0.0       0.0         1\n",
      "1304       0.0       0.0         1\n",
      "1305       0.0       0.0         1\n",
      "1306       0.0       0.0         1\n",
      "1307       0.0       0.0         1\n",
      "1308       0.0       0.0         1\n",
      "\n",
      "[309 rows x 3 columns]\n",
      "x_train.shape = (1000, 15)\n",
      "x_test.shape = (309, 15)\n"
     ],
     "output_type": "stream"
    }
   ],
   "source": [
    "x_train=process(dftrain_raw)\n",
    "y_train=dftrain_raw['survived'].values\n",
    "\n",
    "x_test=process(dftest_raw)\n",
    "y_test=dftest_raw['survived'].values\n",
    "\n",
    "print(\"x_train.shape =\", x_train.shape )\n",
    "print(\"x_test.shape =\", x_test.shape )\n",
    "\n",
    "#print(x_train)\n",
    "#print(x_test)\n",
    "#print(excel)"
   ],
   "metadata": {
    "collapsed": false,
    "pycharm": {
     "name": "#%%\n",
     "is_executing": false
    }
   }
  }
 ],
 "metadata": {
  "kernelspec": {
   "display_name": "Python 3",
   "language": "python",
   "name": "python3"
  },
  "language_info": {
   "codemirror_mode": {
    "name": "ipython",
    "version": 2
   },
   "file_extension": ".py",
   "mimetype": "text/x-python",
   "name": "python",
   "nbconvert_exporter": "python",
   "pygments_lexer": "ipython2",
   "version": "2.7.6"
  },
  "pycharm": {
   "stem_cell": {
    "cell_type": "raw",
    "source": [],
    "metadata": {
     "collapsed": false
    }
   }
  }
 },
 "nbformat": 4,
 "nbformat_minor": 0
}
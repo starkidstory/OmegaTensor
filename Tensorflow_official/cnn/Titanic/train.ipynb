{
 "cells": [
  {
   "cell_type": "markdown",
   "source": [
    "# 使用Titanic乘客信息\n",
    "1. 自动从网络（或者本地）获取源信息\n",
    "2. 使用Pandas对数据进行整理，做成dataframe的形式（相当于一条一条的tensor，每一行是一个tensor）\n",
    "3. 构建简易的训练模型\n",
    "4. 进行训练\n",
    "5. 保存模型到model文件夹"
   ],
   "metadata": {
    "collapsed": false,
    "pycharm": {
     "name": "#%% md\n"
    }
   }
  },
  {
   "cell_type": "code",
   "execution_count": 1,
   "metadata": {
    "collapsed": true,
    "pycharm": {
     "is_executing": false
    }
   },
   "outputs": [],
   "source": [
    "import sys\n",
    "import urllib.request\n",
    "import os\n",
    "import numpy as np \n",
    "import pandas as pd \n",
    "import matplotlib.pyplot as plt\n",
    "import tensorflow as tf \n",
    "from tensorflow.keras import models,layers\n",
    "\n"
   ]
  },
  {
   "cell_type": "markdown",
   "source": [
    " 1. 获取源信息"
   ],
   "metadata": {
    "collapsed": false,
    "pycharm": {
     "name": "#%% md\n"
    }
   }
  },
  {
   "cell_type": "code",
   "execution_count": 2,
   "outputs": [
    {
     "name": "stdout",
     "text": [
      "data input success\n"
     ],
     "output_type": "stream"
    }
   ],
   "source": [
    "'''如果本地没有数据集，则从服务器上拉取'''\n",
    "filePath='./data/titanic.xls'\n",
    "url = 'http://biostat.mc.vanderbilt.edu/wiki/pub/Main/DataSets/titanic3.xls'\n",
    "if not os.path.isfile(filePath):\n",
    "    result=urllib.request.urlretrieve(url,filePath)\n",
    "    print('success download:'+result)\n",
    "print('data input success')"
   ],
   "metadata": {
    "collapsed": false,
    "pycharm": {
     "name": "#%%\n",
     "is_executing": false
    }
   }
  },
  {
   "cell_type": "code",
   "execution_count": 3,
   "outputs": [],
   "source": [
    "cols=[\n",
    "    'pclass','survived','name',\t'sex','age','sibsp',\n",
    "    'parch','ticket','fare','cabin','embarked',\t\n",
    "    'boat',\t'body',\t'home.dest'\n",
    "]#the name of every column\n",
    "\n",
    "excel=pd.read_excel(filePath)#open the source\n",
    "\n",
    "'''separate the source excel into train and test'''\n",
    "dftrain_raw=excel[0:1000]\n",
    "dftest_raw=excel[1000:]\n",
    "\n",
    "#Show the separated source \n",
    "#print(dftest_raw.head(5))\n",
    "#print(dftrain_raw.head(5))#the source for train"
   ],
   "metadata": {
    "collapsed": false,
    "pycharm": {
     "name": "#%%\n",
     "is_executing": false
    }
   }
  },
  {
   "cell_type": "code",
   "execution_count": 4,
   "outputs": [],
   "source": [
    "dftrain_raw=dftrain_raw.drop(['name','ticket'],axis=1)#丢弃 ‘ticket’这一列\n",
    "dftest_raw=dftest_raw.drop(['name','ticket'],axis=1)\n",
    "\n",
    "#Show the source after dropped determine columns\n",
    "#print(dftrain_raw.head(5))\n",
    "#print(dftest_raw.head(5))"
   ],
   "metadata": {
    "collapsed": false,
    "pycharm": {
     "name": "#%%\n",
     "is_executing": false
    }
   }
  },
  {
   "cell_type": "code",
   "execution_count": 5,
   "outputs": [
    {
     "name": "stdout",
     "text": [
      "pclass         0\n",
      "survived       0\n",
      "sex            0\n",
      "age          139\n",
      "sibsp          0\n",
      "parch          0\n",
      "fare           0\n",
      "cabin        717\n",
      "embarked       2\n",
      "boat         583\n",
      "body         905\n",
      "home.dest    258\n",
      "dtype: int64\n",
      "0    577\n",
      "1    423\n",
      "Name: survived, dtype: int64\n"
     ],
     "output_type": "stream"
    },
    {
     "data": {
      "text/plain": "<matplotlib.figure.Figure at 0x1a5305a90b8>",
      "image/png": "[encoded data removed]"
     },
     "metadata": {},
     "output_type": "display_data"
    }
   ],
   "source": [
    "print(dftrain_raw.isnull().sum())#每一列中的空cell的个数\n",
    "print(dftrain_raw['survived'].value_counts())\n",
    "draft=dftrain_raw['survived'].value_counts().plot(kind = 'bar',\n",
    "     figsize = (12,8),fontsize=15,rot = 0)\n",
    "draft.set_title('Count of survived')\n",
    "draft.set_ylabel('counts',fontsize=15)\n",
    "plt.show()"
   ],
   "metadata": {
    "collapsed": false,
    "pycharm": {
     "name": "#%%\n",
     "is_executing": false
    }
   }
  },
  {
   "cell_type": "code",
   "execution_count": 6,
   "outputs": [
    {
     "data": {
      "text/plain": "<matplotlib.figure.Figure at 0x1a53047b1d0>",
      "image/png": "[encoded data removed]"
     },
     "metadata": {},
     "output_type": "display_data"
    }
   ],
   "source": [
    "'''Paint the distribution of age'''\n",
    "draft=dftrain_raw['age'].plot(kind='bar')\n",
    "#draft=dftrain_raw['age'].plot( kind='hist',figsize=(12,8),bins=20,color='green', fontsize=15,rot=0)\n",
    "draft.set_title('Age distribution')\n",
    "draft.set_ylabel('counts')\n",
    "draft.set_xlabel('Age')\n",
    "plt.show()"
   ],
   "metadata": {
    "collapsed": false,
    "pycharm": {
     "name": "#%%\n",
     "is_executing": false
    }
   }
  },
  {
   "cell_type": "code",
   "execution_count": 7,
   "outputs": [
    {
     "data": {
      "text/plain": "<matplotlib.figure.Figure at 0x1a532724978>",
      "image/png": "[encoded data removed]"
     },
     "metadata": {},
     "output_type": "display_data"
    },
    {
     "name": "stdout",
     "text": [
      "Age distribution of survived and not survived\n"
     ],
     "output_type": "stream"
    }
   ],
   "source": [
    "#把存活和不存活的人的age全部获取，把序列画在图（age_sur_die代表图的索引）上,在图中画出存活者年龄分布的密度（占比）\n",
    "#dftrain_raw.query('survived==1')['age']#查询符合条件‘survived==1’的年龄，返回的是一个一维序列\n",
    "age_sur_die=dftrain_raw.query('survived==1')['age'].plot( kind='density',figsize=(12,8),fontsize=15)\n",
    "dftrain_raw.query('survived==0')['age'].plot( kind='density',figsize=(12,8),fontsize=15)\n",
    "age_sur_die.set_xlabel('age',fontsize=15,color='green')\n",
    "age_sur_die.set_ylabel('portion',fontsize=15,color='green')\n",
    "age_sur_die.legend(['survived==1','survived==0'],fontsize = 12)\n",
    "plt.show()\n",
    "print('Age distribution of survived and not survived')\n"
   ],
   "metadata": {
    "collapsed": false,
    "pycharm": {
     "name": "#%%\n",
     "is_executing": false
    }
   }
  },
  {
   "cell_type": "markdown",
   "source": [
    "## Process the source into dataframe\n",
    "- process function"
   ],
   "metadata": {
    "collapsed": false
   }
  },
  {
   "cell_type": "code",
   "execution_count": 8,
   "outputs": [],
   "source": [
    "def process(dfdata):\n",
    "    \n",
    "    dfresult=pd.DataFrame()\n",
    "    '''get_dummies is to make the data to binary and sort in group'''\n",
    "    '''such as \n",
    "    pclass_A pclass_B pclass_C\n",
    "    1           0       0\n",
    "    0           0       1\n",
    "    1           0       0\n",
    "    0           1       0\n",
    "    every row represent one object's attribute\n",
    "    '''\n",
    "    #dfPclass\n",
    "    #dfPclass=pd.DataFrame()\n",
    "    #print(pd.get_dummies(dfdata['pclass']))\n",
    "    dfPclass=pd.get_dummies(dfdata['pclass'])\n",
    "    \n",
    "    #print(dfPclass.shape)\n",
    "   \n",
    "    '''\n",
    "    Here is to sovle the x_test has only one column of 'pclass',\n",
    "    so append two blank columns for it.\n",
    "    '''\n",
    "    tempdfpclass=pd.DataFrame(data={'A':[],'B':[]})\n",
    "    if dfPclass.shape[1]<pd.get_dummies(excel['pclass']).shape[1]:\n",
    "       i=1\n",
    "       while i<pd.get_dummies(excel['pclass']).shape[1]-dfPclass.shape[1]-1 :\n",
    "           tempdfpclass=pd.concat([tempdfpclass,tempdfpclass],axis=1)\n",
    "           i=i+1\n",
    "       dfPclass=pd.concat([tempdfpclass,dfPclass],axis=1)\n",
    "    #print(tempdfpclass.shape)\n",
    "    \n",
    "    dfPclass.columns = ['pclass_' +str(x) for x in  pd.get_dummies(excel['pclass']).columns]\n",
    "    \n",
    "    dfresult = pd.concat([dfresult,dfPclass],axis = 1)\n",
    "    dfresult['pclass_1']=dfresult['pclass_1'].fillna(0)\n",
    "    dfresult['pclass_2']=dfresult['pclass_2'].fillna(0)\n",
    "    \n",
    "    #sex\n",
    "    dfsex=pd.get_dummies(dfdata['sex'])\n",
    "    #dfresult=pd.concat([dfresult,dfsex],axis=0)#concat the frame up and down \n",
    "    dfresult=pd.concat([dfresult,dfsex],axis=1)#concat the frame left and right\n",
    "    \n",
    "    #age feature (type:int32)(copy from the dfdata)\n",
    "    dfresult['age']=dfdata['age'].fillna(0)#fill 0 when it is na(empty)\n",
    "    dfresult['age_null']=dfdata['age'].isnull().astype('int32')\n",
    "    \n",
    "     #SibSp,Parch,Fare\n",
    "    dfresult['sibsp'] = dfdata['sibsp']\n",
    "    dfresult['parch'] = dfdata['parch']\n",
    "    dfresult['fare'] = dfdata['fare']\n",
    "\n",
    "    #carbin\n",
    "    #add the feature of 'is the cabin empty?'\n",
    "    dfresult['cabin_null']=pd.isnull(dfdata['cabin']).astype('int32')\n",
    "    \n",
    "    #embarked\n",
    "    dfembarked=pd.get_dummies(dfdata['embarked'],dummy_na=True)\n",
    "    dfembarked.columns=['embark_'+str(x) for x in dfembarked.columns]\n",
    "    dfresult=pd.concat([dfresult,dfembarked],axis=1)\n",
    "    return (dfresult)"
   ],
   "metadata": {
    "collapsed": false,
    "pycharm": {
     "name": "#%%\n",
     "is_executing": false
    }
   }
  },
  {
   "cell_type": "markdown",
   "source": [
    "- Call 'process' to transform source "
   ],
   "metadata": {
    "collapsed": false,
    "pycharm": {
     "name": "#%% md\n"
    }
   }
  },
  {
   "cell_type": "code",
   "execution_count": 9,
   "outputs": [
    {
     "name": "stdout",
     "text": [
      "x_train.shape = (1000, 15)\n",
      "columns of x_train: Index(['pclass_1', 'pclass_2', 'pclass_3', 'female', 'male', 'age', 'age_null',\n",
      "       'sibsp', 'parch', 'fare', 'cabin_null', 'embark_C', 'embark_Q',\n",
      "       'embark_S', 'embark_nan'],\n",
      "      dtype='object')\n",
      "x_test.shape = (309, 15)\n",
      "columns of x_test: Index(['pclass_1', 'pclass_2', 'pclass_3', 'female', 'male', 'age', 'age_null',\n",
      "       'sibsp', 'parch', 'fare', 'cabin_null', 'embark_C', 'embark_Q',\n",
      "       'embark_S', 'embark_nan'],\n",
      "      dtype='object')\n"
     ],
     "output_type": "stream"
    }
   ],
   "source": [
    "x_train=process(dftrain_raw)\n",
    "y_train=dftrain_raw['survived'].values\n",
    "\n",
    "\n",
    "x_test=process(dftest_raw)\n",
    "y_test=dftest_raw['survived'].values\n",
    "\n",
    "print(\"x_train.shape =\", x_train.shape)\n",
    "print('columns of x_train:',x_train.columns)\n",
    "\n",
    "print(\"x_test.shape =\", x_test.shape)\n",
    "print('columns of x_test:',x_test.columns)\n",
    "\n",
    "#print(x_train)\n",
    "#print(x_test)\n",
    "#print(excel)"
   ],
   "metadata": {
    "collapsed": false,
    "pycharm": {
     "name": "#%%\n",
     "is_executing": false
    }
   }
  },
  {
   "cell_type": "markdown",
   "source": [
    "- Construct model"
   ],
   "metadata": {
    "collapsed": false,
    "pycharm": {
     "name": "#%% md\n"
    }
   }
  },
  {
   "cell_type": "code",
   "execution_count": 11,
   "outputs": [
    {
     "name": "stdout",
     "text": [
      "Model: \"sequential\"\n",
      "_________________________________________________________________\n",
      "Layer (type)                 Output Shape              Param #   \n",
      "=================================================================\n",
      "dense (Dense)                (None, 20)                320       \n",
      "_________________________________________________________________\n",
      "dense_1 (Dense)              (None, 10)                210       \n",
      "_________________________________________________________________\n",
      "dense_2 (Dense)              (None, 1)                 11        \n",
      "=================================================================\n",
      "Total params: 541\n",
      "Trainable params: 541\n",
      "Non-trainable params: 0\n",
      "_________________________________________________________________\n"
     ],
     "output_type": "stream"
    }
   ],
   "source": [
    "tf.keras.backend.clear_session()\n",
    "model=models.Sequential()\n",
    "model.add(layers.Dense(20,activation='relu',input_shape=(15,)))\n",
    "model.add(layers.Dense(10,activation='relu'))\n",
    "model.add(layers.Dense(1,activation='sigmoid'))\n",
    "model.summary()"
   ],
   "metadata": {
    "collapsed": false,
    "pycharm": {
     "name": "#%%\n",
     "is_executing": false
    }
   }
  },
  {
   "cell_type": "markdown",
   "source": [
    "- Train model"
   ],
   "metadata": {
    "collapsed": false,
    "pycharm": {
     "name": "#%% md\n"
    }
   }
  },
  {
   "cell_type": "code",
   "execution_count": 13,
   "outputs": [
    {
     "name": "stdout",
     "text": [
      "Train on 800 samples, validate on 200 samples\n",
      "Epoch 1/30\n",
      "800/800 [==============================] - 2s 2ms/sample - loss: 2.7053 - AUC: 0.4043 - val_loss: 0.6507 - val_AUC: 0.5170\b\b\b\b\b\b\b\b\b\b\b\b\b\b\b\b\b\b\b\b\b\b\b\b\b\b\b\b\b\b\b\b\b\b\b\b\b\b\b\b\b\b\b\b\b\b\b\b\b\b\b\b\b\b\b\b\b\b\b\b\b\b\b\b\b\b\b\b\b\b\b\b\b\b\b\b\b\b\b\b\b\b\b\b\b\b\b\b\b\b\b\b\b\b\b\b\b\b\b\b\b\b\b\b\b\b\b\b\b\b\b\b\b\b\b\b\b\b\b\b\b\b\b\b\b\b\b\b\b\b\b\b\b\b\b\b\b\b\b\b\b\b\b\b\b\b\b\b\b\b\b\b\b\b\b\b\b\b\b\b\b\b\b\b\b\b\b\b\b\b\b\b\b\b\b\b\b\b\b\b\b\b\b\b\b\b\b\b\b\b\b\b\b\b\b\b\n",
      "Epoch 2/30\n",
      "800/800 [==============================] - 0s 74us/sample - loss: 1.3797 - AUC: 0.4391 - val_loss: 0.6399 - val_AUC: 0.4603\b\b\b\b\b\b\b\b\b\b\b\b\b\b\b\b\b\b\b\b\b\b\b\b\b\b\b\b\b\b\b\b\b\b\b\n",
      "Epoch 3/30\n",
      "800/800 [==============================] - 0s 56us/sample - loss: 0.8841 - AUC: 0.5097 - val_loss: 0.7040 - val_AUC: 0.4330\b\b\b\b\b\b\b\b\b\b\b\b\b\b\b\b\b\b\b\b\b\b\b\b\b\b\b\b\b\b\b\b\b\b\b\n",
      "Epoch 4/30\n",
      "800/800 [==============================] - 0s 52us/sample - loss: 0.7786 - AUC: 0.5579 - val_loss: 0.6974 - val_AUC: 0.4534\b\b\b\b\b\b\b\b\b\b\b\b\b\b\b\b\b\b\b\b\b\b\b\b\b\b\b\b\b\b\b\b\b\b\b\n",
      "Epoch 5/30\n",
      "800/800 [==============================] - 0s 69us/sample - loss: 0.7516 - AUC: 0.6123 - val_loss: 0.6824 - val_AUC: 0.4816\b\b\b\b\b\b\b\b\b\b\b\b\b\b\b\b\b\b\b\b\b\b\b\b\b\b\b\b\b\b\b\b\b\b\b\n",
      "Epoch 6/30\n",
      "800/800 [==============================] - 0s 66us/sample - loss: 0.7332 - AUC: 0.6381 - val_loss: 0.6590 - val_AUC: 0.5120\b\b\b\b\b\b\b\b\b\b\b\b\b\b\b\b\b\b\b\b\b\b\b\b\b\b\b\b\b\b\b\b\b\b\b\n",
      "Epoch 7/30\n",
      "800/800 [==============================] - 0s 185us/sample - loss: 0.7139 - AUC: 0.6488 - val_loss: 0.6518 - val_AUC: 0.5305\b\b\b\b\b\b\b\b\b\b\b\b\b\b\b\b\b\b\b\b\b\b\b\b\b\b\b\b\b\b\b\b\b\b\n",
      "Epoch 8/30\n",
      "800/800 [==============================] - 0s 56us/sample - loss: 0.6998 - AUC: 0.6544 - val_loss: 0.6427 - val_AUC: 0.5422\b\b\b\b\b\b\b\b\b\b\b\b\b\b\b\b\b\b\b\b\b\b\b\b\b\b\b\b\b\b\b\b\b\b\b\n",
      "Epoch 9/30\n",
      "800/800 [==============================] - 0s 74us/sample - loss: 0.6866 - AUC: 0.6612 - val_loss: 0.6347 - val_AUC: 0.5595\b\b\b\b\b\b\b\b\b\b\b\b\b\b\b\b\b\b\b\b\b\b\b\b\b\b\b\b\b\b\b\b\b\b\b\n",
      "Epoch 10/30\n",
      "800/800 [==============================] - 0s 82us/sample - loss: 0.6763 - AUC: 0.6663 - val_loss: 0.6245 - val_AUC: 0.5678\b\b\b\b\b\b\b\b\b\b\b\b\b\b\b\b\b\b\b\b\b\b\b\b\b\b\b\b\b\b\b\b\b\b\b\n",
      "Epoch 11/30\n",
      "800/800 [==============================] - 0s 79us/sample - loss: 0.6674 - AUC: 0.6713 - val_loss: 0.6238 - val_AUC: 0.5726\b\b\b\b\b\b\b\b\b\b\b\b\b\b\b\b\b\b\b\b\b\b\b\b\b\b\b\b\b\b\b\b\b\b\b\n",
      "Epoch 12/30\n",
      "800/800 [==============================] - 0s 105us/sample - loss: 0.6575 - AUC: 0.6858 - val_loss: 0.6199 - val_AUC: 0.5734\b\b\b\b\b\b\b\b\b\b\b\b\b\b\b\b\b\b\b\b\b\b\b\b\b\b\b\b\b\b\b\b\b\b\n",
      "Epoch 13/30\n",
      "800/800 [==============================] - 0s 155us/sample - loss: 0.6507 - AUC: 0.6937 - val_loss: 0.6130 - val_AUC: 0.5798\b\b\b\b\b\b\b\b\b\b\b\b\b\b\b\b\b\b\b\b\b\b\b\b\b\b\b\b\b\b\b\b\b\b\b\b\b\b\b\b\b\b\b\b\b\b\b\b\b\b\b\b\b\b\b\b\b\b\b\b\b\b\b\b\b\b\b\b\b\b\b\b\b\b\b\b\b\b\b\b\b\b\b\b\b\b\b\b\b\b\b\b\b\b\b\b\b\b\b\b\b\b\b\b\b\b\b\b\b\b\b\b\b\n",
      "Epoch 14/30\n",
      "800/800 [==============================] - 0s 80us/sample - loss: 0.6426 - AUC: 0.7037 - val_loss: 0.6143 - val_AUC: 0.5807\b\b\b\b\b\b\b\b\b\b\b\b\b\b\b\b\b\b\b\b\b\b\b\b\b\b\b\b\b\b\b\b\b\b\b\n",
      "Epoch 15/30\n",
      "800/800 [==============================] - 0s 89us/sample - loss: 0.6358 - AUC: 0.7170 - val_loss: 0.6110 - val_AUC: 0.5817\b\b\b\b\b\b\b\b\b\b\b\b\b\b\b\b\b\b\b\b\b\b\b\b\b\b\b\b\b\b\b\b\b\b\b\n",
      "Epoch 16/30\n",
      "800/800 [==============================] - 0s 180us/sample - loss: 0.6305 - AUC: 0.7247 - val_loss: 0.6052 - val_AUC: 0.5851\b\b\b\b\b\b\b\b\b\b\b\b\b\b\b\b\b\b\b\b\b\b\b\b\b\b\b\b\b\b\b\b\b\b\n",
      "Epoch 17/30\n",
      "800/800 [==============================] - 0s 84us/sample - loss: 0.6248 - AUC: 0.7364 - val_loss: 0.6065 - val_AUC: 0.5871\b\b\b\b\b\b\b\b\b\b\b\b\b\b\b\b\b\b\b\b\b\b\b\b\b\b\b\b\b\b\b\b\b\b\b\n",
      "Epoch 18/30\n",
      "800/800 [==============================] - 0s 97us/sample - loss: 0.6205 - AUC: 0.7405 - val_loss: 0.6001 - val_AUC: 0.5943\b\b\b\b\b\b\b\b\b\b\b\b\b\b\b\b\b\b\b\b\b\b\b\b\b\b\b\b\b\b\b\b\b\b\b\n",
      "Epoch 19/30\n",
      "800/800 [==============================] - 0s 74us/sample - loss: 0.6148 - AUC: 0.7483 - val_loss: 0.6011 - val_AUC: 0.6018\b\b\b\b\b\b\b\b\b\b\b\b\b\b\b\b\b\b\b\b\b\b\b\b\b\b\b\b\b\b\b\b\b\b\b\n",
      "Epoch 20/30\n",
      "800/800 [==============================] - 0s 80us/sample - loss: 0.6113 - AUC: 0.7547 - val_loss: 0.5968 - val_AUC: 0.6041\b\b\b\b\b\b\b\b\b\b\b\b\b\b\b\b\b\b\b\b\b\b\b\b\b\b\b\b\b\b\b\b\b\b\b\n",
      "Epoch 21/30\n",
      "800/800 [==============================] - 0s 175us/sample - loss: 0.6058 - AUC: 0.7609 - val_loss: 0.5999 - val_AUC: 0.6059\b\b\b\b\b\b\b\b\b\b\b\b\b\b\b\b\b\b\b\b\b\b\b\b\b\b\b\b\b\b\b\b\b\b\n",
      "Epoch 22/30\n",
      "800/800 [==============================] - 0s 72us/sample - loss: 0.6015 - AUC: 0.7657 - val_loss: 0.5940 - val_AUC: 0.6070\b\b\b\b\b\b\b\b\b\b\b\b\b\b\b\b\b\b\b\b\b\b\b\b\b\b\b\b\b\b\b\b\b\b\b\n",
      "Epoch 23/30\n",
      "800/800 [==============================] - 0s 77us/sample - loss: 0.5978 - AUC: 0.7701 - val_loss: 0.5914 - val_AUC: 0.6144\b\b\b\b\b\b\b\b\b\b\b\b\b\b\b\b\b\b\b\b\b\b\b\b\b\b\b\b\b\b\b\b\b\b\b\n",
      "Epoch 24/30\n",
      "800/800 [==============================] - 0s 81us/sample - loss: 0.5936 - AUC: 0.7749 - val_loss: 0.5888 - val_AUC: 0.6099\b\b\b\b\b\b\b\b\b\b\b\b\b\b\b\b\b\b\b\b\b\b\b\b\b\b\b\b\b\b\b\b\b\b\b\n",
      "Epoch 25/30\n",
      "800/800 [==============================] - 0s 86us/sample - loss: 0.5894 - AUC: 0.7769 - val_loss: 0.5918 - val_AUC: 0.6035\b\b\b\b\b\b\b\b\b\b\b\b\b\b\b\b\b\b\b\b\b\b\b\b\b\b\b\b\b\b\b\b\b\b\b\n",
      "Epoch 26/30\n",
      "800/800 [==============================] - 0s 70us/sample - loss: 0.5871 - AUC: 0.7774 - val_loss: 0.5919 - val_AUC: 0.6072\b\b\b\b\b\b\b\b\b\b\b\b\b\b\b\b\b\b\b\b\b\b\b\b\b\b\b\b\b\b\b\b\b\b\b\n",
      "Epoch 27/30\n",
      "800/800 [==============================] - 0s 261us/sample - loss: 0.5823 - AUC: 0.7849 - val_loss: 0.5917 - val_AUC: 0.6094\b\b\b\b\b\b\b\b\b\b\b\b\b\b\b\b\b\b\b\b\b\b\b\b\b\b\b\b\b\b\b\b\b\b\b\b\b\b\b\b\b\b\b\b\b\b\b\b\b\b\b\b\b\b\b\b\b\b\b\b\b\b\b\b\b\b\b\b\b\b\b\b\b\b\b\b\b\b\b\b\b\b\b\b\b\b\b\b\b\b\b\b\b\b\b\b\b\b\b\b\b\b\b\b\b\b\b\b\b\b\b\b\b\n",
      "Epoch 28/30\n",
      "800/800 [==============================] - 0s 71us/sample - loss: 0.5782 - AUC: 0.7963 - val_loss: 0.5854 - val_AUC: 0.6088\b\b\b\b\b\b\b\b\b\b\b\b\b\b\b\b\b\b\b\b\b\b\b\b\b\b\b\b\b\b\b\b\b\b\b\n",
      "Epoch 29/30\n",
      "800/800 [==============================] - 0s 77us/sample - loss: 0.5715 - AUC: 0.8021 - val_loss: 0.5910 - val_AUC: 0.6114\b\b\b\b\b\b\b\b\b\b\b\b\b\b\b\b\b\b\b\b\b\b\b\b\b\b\b\b\b\b\b\b\b\b\b\n",
      "Epoch 30/30\n",
      "800/800 [==============================] - 0s 70us/sample - loss: 0.5711 - AUC: 0.7895 - val_loss: 0.5923 - val_AUC: 0.6063\b\b\b\b\b\b\b\b\b\b\b\b\b\b\b\b\b\b\b\b\b\b\b\b\b\b\b\b\b\b\b\b\b\b\b\n"
     ],
     "output_type": "stream"
    }
   ],
   "source": [
    "model.compile(optimizer='adam',loss='binary_crossentropy',metrics=['AUC'])\n",
    "history=model.fit(x_train,y_train,batch_size=64,epochs=30,validation_split=0.2)"
   ],
   "metadata": {
    "collapsed": false,
    "pycharm": {
     "name": "#%%\n",
     "is_executing": false
    }
   }
  },
  {
   "cell_type": "markdown",
   "source": [
    "- Access model"
   ],
   "metadata": {
    "collapsed": false,
    "pycharm": {
     "name": "#%% md\n"
    }
   }
  },
  {
   "cell_type": "code",
   "execution_count": null,
   "outputs": [],
   "source": [
    "import matplotlib.pyplot as plt"
   ],
   "metadata": {
    "collapsed": false,
    "pycharm": {
     "name": "#%% \n"
    }
   }
  }
 ],
 "metadata": {
  "kernelspec": {
   "display_name": "Python 3",
   "language": "python",
   "name": "python3"
  },
  "language_info": {
   "codemirror_mode": {
    "name": "ipython",
    "version": 2
   },
   "file_extension": ".py",
   "mimetype": "text/x-python",
   "name": "python",
   "nbconvert_exporter": "python",
   "pygments_lexer": "ipython2",
   "version": "2.7.6"
  },
  "pycharm": {
   "stem_cell": {
    "cell_type": "raw",
    "source": [],
    "metadata": {
     "collapsed": false
    }
   }
  }
 },
 "nbformat": 4,
 "nbformat_minor": 0
}
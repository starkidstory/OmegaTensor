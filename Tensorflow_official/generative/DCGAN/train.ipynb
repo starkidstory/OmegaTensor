{
 "nbformat": 4,
 "nbformat_minor": 0,
 "metadata": {
  "kernelspec": {
   "name": "python3",
   "display_name": "Python 3"
  },
  "language_info": {
   "codemirror_mode": {
    "name": "ipython",
    "version": 2
   },
   "file_extension": ".py",
   "mimetype": "text/x-python",
   "name": "python",
   "nbconvert_exporter": "python",
   "pygments_lexer": "ipython2",
   "version": "2.7.6"
  },
  "colab": {
   "name": "train.ipynb",
   "provenance": [],
   "collapsed_sections": []
  },
  "accelerator": "GPU"
 },
 "cells": [
  {
   "cell_type": "markdown",
   "metadata": {
    "collapsed": false,
    "pycharm": {
     "name": "#%% md\n"
    },
    "id": "z6Qy6Te32gx4",
    "colab_type": "text"
   },
   "source": [
    "# 深度卷积生成对抗网络\n",
    "\n",
    "生成器 (Generator)(\"艺术家\") & 判别器 (Discriminator)(\"艺术评论家\")"
   ]
  },
  {
   "cell_type": "code",
   "metadata": {
    "id": "bFc8aPS92gx5",
    "colab_type": "code",
    "colab": {}
   },
   "source": [
    "import matplotlib.pyplot as plt\n",
    "import numpy as np\n",
    "import tensorflow as tf\n",
    "from tensorflow import keras\n",
    "from IPython import display"
   ],
   "execution_count": 0,
   "outputs": []
  },
  {
   "cell_type": "markdown",
   "metadata": {
    "collapsed": false,
    "pycharm": {
     "name": "#%% md\n"
    },
    "id": "Ekig8gmE2gx9",
    "colab_type": "text"
   },
   "source": [
    "准备 MNIST 手写数据集"
   ]
  },
  {
   "cell_type": "code",
   "metadata": {
    "pycharm": {
     "name": "#%%\n"
    },
    "id": "dLA3iKs42gx9",
    "colab_type": "code",
    "colab": {
     "base_uri": "https://localhost:8080/",
     "height": 68
    },
    "outputId": "dad8cb00-155b-495f-f0b1-77385501625d"
   },
   "source": [
    "(train_images, train_labels), (_, _) = keras.datasets.mnist.load_data()\n",
    "train_images.shape"
   ],
   "execution_count": 2,
   "outputs": [
    {
     "output_type": "stream",
     "text": [
      "Downloading data from https://storage.googleapis.com/tensorflow/tf-keras-datasets/mnist.npz\n",
      "11493376/11490434 [==============================] - 0s 0us/step\n"
     ],
     "name": "stdout"
    },
    {
     "output_type": "execute_result",
     "data": {
      "text/plain": [
       "(60000, 28, 28)"
      ]
     },
     "metadata": {
      "tags": []
     },
     "execution_count": 2
    }
   ]
  },
  {
   "cell_type": "code",
   "metadata": {
    "pycharm": {
     "name": "#%%\n"
    },
    "id": "DgoFHua-2gyB",
    "colab_type": "code",
    "colab": {}
   },
   "source": [
    "train_images = train_images.reshape(train_images.shape[0], 28, 28, 1).astype('float32')\n",
    "train_images = (train_images - 127.5) / 127.5  # [0, 255] -> [-1, 1]"
   ],
   "execution_count": 0,
   "outputs": []
  },
  {
   "cell_type": "code",
   "metadata": {
    "pycharm": {
     "name": "#%%\n"
    },
    "id": "Q7wn1mQB2gyE",
    "colab_type": "code",
    "colab": {}
   },
   "source": [
    "BATCH_SIZE = 256\n",
    "train_dataset = tf.data.Dataset.from_tensor_slices(train_images).shuffle(60000).batch(BATCH_SIZE)"
   ],
   "execution_count": 0,
   "outputs": []
  },
  {
   "cell_type": "markdown",
   "metadata": {
    "collapsed": false,
    "pycharm": {
     "name": "#%% md\n"
    },
    "id": "sPIkJqN_2gyG",
    "colab_type": "text"
   },
   "source": [
    "创建生成器网络"
   ]
  },
  {
   "cell_type": "code",
   "metadata": {
    "pycharm": {
     "name": "#%%\n"
    },
    "id": "yIKeZK1s2gyH",
    "colab_type": "code",
    "colab": {}
   },
   "source": [
    "def make_generator_model():\n",
    "    model = keras.Sequential([\n",
    "        keras.layers.Dense(7 * 7 * 256, use_bias=False, input_shape=(100,)),\n",
    "        keras.layers.BatchNormalization(),\n",
    "        keras.layers.LeakyReLU(),\n",
    "        keras.layers.Reshape((7, 7, 256)),\n",
    "        keras.layers.Conv2DTranspose(128, (5, 5), strides=(1, 1), padding='same', use_bias=False),\n",
    "        keras.layers.BatchNormalization(),\n",
    "        keras.layers.LeakyReLU(),\n",
    "        keras.layers.Conv2DTranspose(64, (5, 5), strides=(2, 2), padding='same', use_bias=False),\n",
    "        keras.layers.BatchNormalization(),\n",
    "        keras.layers.LeakyReLU(),\n",
    "        keras.layers.Conv2DTranspose(1, (5, 5), strides=(2, 2), padding='same', use_bias=False, activation='tanh')\n",
    "    ])\n",
    "    return model"
   ],
   "execution_count": 0,
   "outputs": []
  },
  {
   "cell_type": "code",
   "metadata": {
    "pycharm": {
     "name": "#%%\n"
    },
    "id": "ZmA_6x3P2gyJ",
    "colab_type": "code",
    "colab": {
     "base_uri": "https://localhost:8080/",
     "height": 588
    },
    "outputId": "000be4d2-7523-4165-f5d4-2b5bb7785eb0"
   },
   "source": [
    "generator = make_generator_model()\n",
    "\n",
    "noise = tf.random.normal([1, 100])\n",
    "print(noise)\n",
    "generated_image = generator(noise, training=False)\n",
    "plt.imshow(generated_image[0, :, :, 0], cmap='gray')"
   ],
   "execution_count": 6,
   "outputs": [
    {
     "output_type": "stream",
     "text": [
      "tf.Tensor(\n",
      "[[-0.836243   -0.369106   -0.40972394 -0.17025787 -0.69386274 -2.6798515\n",
      "  -0.50801593  0.805225    0.43764713 -0.8478295  -0.01205852 -0.17711839\n",
      "   0.16512172  0.35288265  1.2600393   0.90654343 -0.9352194   0.33448204\n",
      "  -0.54273856 -0.25338218 -0.97457933 -1.0614158   1.0386753  -0.18037719\n",
      "  -1.7074761   0.3484895  -0.46852517  0.54609096 -0.19146878 -2.0220723\n",
      "   0.15249124 -0.177925   -0.5389189  -0.26192692  0.30811352 -1.036532\n",
      "   0.93559706 -0.12596036  0.08275323  0.8475547   0.12433832  0.78487074\n",
      "   0.19712354  1.952833    0.24985252 -0.16362563  0.572147   -0.45703992\n",
      "   0.00881551 -0.7987579  -2.2220986   2.3566825  -0.01556182  1.5066895\n",
      "   1.2364411  -1.3026112   0.13163595  0.07413062  0.25243554 -1.1042047\n",
      "  -0.70912915 -0.8536726   2.7345796   0.59409845 -0.3746831   1.1746628\n",
      "  -0.1327569  -0.6053498   0.19670613  1.1609563  -0.2285366   0.12042303\n",
      "   1.9393572  -0.7381622   0.5301841   1.5633557   0.48501858  0.72609\n",
      "   1.7681336   1.4572216  -0.27988073  0.9213407   0.40284595  0.8953519\n",
      "  -1.0323588  -0.1034853   0.21503583  1.9724407  -0.4984548  -0.47678918\n",
      "   1.7068989   0.7409213  -0.02114614  0.14864726 -0.18481581  2.2543917\n",
      "  -0.5087269   0.25346395  1.0624981  -0.13461436]], shape=(1, 100), dtype=float32)\n"
     ],
     "name": "stdout"
    },
    {
     "output_type": "execute_result",
     "data": {
      "text/plain": [
       "<matplotlib.image.AxesImage at 0x7f6c70d453c8>"
      ]
     },
     "metadata": {
      "tags": []
     },
     "execution_count": 6
    },
    {
     "output_type": "display_data",
     "data": {
      "image/png": "[encoded data removed]",
      "text/plain": [
       "<Figure size 432x288 with 1 Axes>"
      ]
     },
     "metadata": {
      "tags": [],
      "needs_background": "light"
     }
    }
   ]
  },
  {
   "cell_type": "markdown",
   "metadata": {
    "collapsed": false,
    "pycharm": {
     "name": "#%% md\n"
    },
    "id": "OcHh-MVS2gyM",
    "colab_type": "text"
   },
   "source": [
    "创建判别器网络"
   ]
  },
  {
   "cell_type": "code",
   "metadata": {
    "pycharm": {
     "name": "#%%\n"
    },
    "id": "92nM1Rhy2gyM",
    "colab_type": "code",
    "colab": {}
   },
   "source": [
    "def make_discriminator_model():\n",
    "    model = keras.Sequential([\n",
    "        keras.layers.Conv2D(64, (5, 5), strides=(2, 2), padding='same',\n",
    "                            input_shape=[28, 28, 1]),\n",
    "        keras.layers.LeakyReLU(),\n",
    "        keras.layers.Dropout(0.3),\n",
    "        keras.layers.Conv2D(128, (5, 5), strides=(2, 2), padding='same'),\n",
    "        keras.layers.LeakyReLU(),\n",
    "        keras.layers.Dropout(0.3),\n",
    "        keras.layers.Flatten(),\n",
    "        keras.layers.Dense(1)\n",
    "    ])\n",
    "    return model"
   ],
   "execution_count": 0,
   "outputs": []
  },
  {
   "cell_type": "code",
   "metadata": {
    "pycharm": {
     "name": "#%%\n"
    },
    "id": "DWOFUgzF2gyP",
    "colab_type": "code",
    "colab": {
     "base_uri": "https://localhost:8080/",
     "height": 34
    },
    "outputId": "f2ab9a96-52a1-49f1-d923-dcaa9f4671c2"
   },
   "source": [
    "discriminator = make_discriminator_model()\n",
    "decision = discriminator(generated_image)\n",
    "decision"
   ],
   "execution_count": 8,
   "outputs": [
    {
     "output_type": "execute_result",
     "data": {
      "text/plain": [
       "<tf.Tensor: shape=(1, 1), dtype=float32, numpy=array([[-0.00080273]], dtype=float32)>"
      ]
     },
     "metadata": {
      "tags": []
     },
     "execution_count": 8
    }
   ]
  },
  {
   "cell_type": "code",
   "metadata": {
    "pycharm": {
     "name": "#%%\n"
    },
    "id": "tuNweKkm2gyR",
    "colab_type": "code",
    "colab": {}
   },
   "source": [
    "cross_entropy = keras.losses.BinaryCrossentropy(from_logits=True)"
   ],
   "execution_count": 0,
   "outputs": []
  },
  {
   "cell_type": "code",
   "metadata": {
    "pycharm": {
     "name": "#%%\n"
    },
    "id": "jnZiCfXG2gyU",
    "colab_type": "code",
    "colab": {}
   },
   "source": [
    "# 判别器损失\n",
    "def discriminator_loss(real_output, fake_output):\n",
    "    real_loss = cross_entropy(tf.ones_like(real_output), real_output)\n",
    "    fake_loss = cross_entropy(tf.zeros_like(fake_output), fake_output)\n",
    "    return real_loss + fake_loss"
   ],
   "execution_count": 0,
   "outputs": []
  },
  {
   "cell_type": "code",
   "metadata": {
    "pycharm": {
     "name": "#%%\n"
    },
    "id": "7EDTpKb12gyX",
    "colab_type": "code",
    "colab": {}
   },
   "source": [
    "# 生成器损失: 把判别器在生成图片上的判断结果与一个值全为 1 的数组进行对比\n",
    "def generator_loss(fake_output):\n",
    "    return cross_entropy(tf.ones_like(fake_output), fake_output)"
   ],
   "execution_count": 0,
   "outputs": []
  },
  {
   "cell_type": "code",
   "metadata": {
    "pycharm": {
     "name": "#%%\n"
    },
    "id": "Xs09PZ6V2gyZ",
    "colab_type": "code",
    "colab": {}
   },
   "source": [
    "generator_opt = keras.optimizers.Adam(1e-4)\n",
    "discriminator_opt = keras.optimizers.Adam(1e-4)"
   ],
   "execution_count": 0,
   "outputs": []
  },
  {
   "cell_type": "markdown",
   "metadata": {
    "collapsed": false,
    "pycharm": {
     "name": "#%% md\n"
    },
    "id": "wrrJ9XDn2gyc",
    "colab_type": "text"
   },
   "source": [
    "Train"
   ]
  },
  {
   "cell_type": "code",
   "metadata": {
    "pycharm": {
     "name": "#%%\n"
    },
    "id": "xG3n1ihD2gyd",
    "colab_type": "code",
    "colab": {}
   },
   "source": [
    "EPOCHS = 50\n",
    "noise_dim = 100\n",
    "num_examples = 16\n",
    "\n",
    "seed = tf.random.normal([num_examples, noise_dim])"
   ],
   "execution_count": 0,
   "outputs": []
  },
  {
   "cell_type": "code",
   "metadata": {
    "pycharm": {
     "name": "#%%\n"
    },
    "id": "lDGPXqim2gyf",
    "colab_type": "code",
    "colab": {}
   },
   "source": [
    "@tf.function\n",
    "def train_step(images):\n",
    "    noise = tf.random.normal([BATCH_SIZE, noise_dim])\n",
    "\n",
    "    with tf.GradientTape() as generator_tape, tf.GradientTape() as discriminator_tape:\n",
    "        generated_image = generator(noise, training=True)\n",
    "\n",
    "        real_output = discriminator(images, training=True)\n",
    "        fake_output = discriminator(generated_image, training=True)\n",
    "\n",
    "        gen_loss = generator_loss(fake_output)\n",
    "        disc_loss = discriminator_loss(real_output, fake_output)\n",
    "\n",
    "    gradients_of_generator = generator_tape.gradient(gen_loss, generator.trainable_variables)\n",
    "    gradients_of_discriminator = discriminator_tape.gradient(disc_loss, discriminator.trainable_variables)\n",
    "\n",
    "    generator_opt.apply_gradients(zip(gradients_of_generator, generator.trainable_variables))\n",
    "    discriminator_opt.apply_gradients(zip(gradients_of_discriminator, discriminator.trainable_variables))"
   ],
   "execution_count": 0,
   "outputs": []
  },
  {
   "cell_type": "code",
   "metadata": {
    "pycharm": {
     "name": "#%%\n"
    },
    "id": "jhcWXU9J2gyh",
    "colab_type": "code",
    "colab": {}
   },
   "source": [
    "def save_images(epoch, predictions):\n",
    "    fig = plt.figure(figsize=(4, 4))\n",
    "\n",
    "    for i in range(predictions.shape[0]):\n",
    "        plt.subplot(4, 4, i+1)\n",
    "        plt.imshow(predictions[i, :, :, 0] * 127.5 + 127.5, cmap='gray')\n",
    "        plt.axis('off')\n",
    "\n",
    "    plt.savefig('image_at_epoch_{:04d}.png'.format(epoch))\n",
    "    plt.show()"
   ],
   "execution_count": 0,
   "outputs": []
  },
  {
   "cell_type": "code",
   "metadata": {
    "pycharm": {
     "name": "#%%\n"
    },
    "id": "HFB85dII2gyk",
    "colab_type": "code",
    "colab": {}
   },
   "source": [
    "def train(dataset, epochs):\n",
    "    for epoch in range(epochs):\n",
    "        for image_batch in dataset:\n",
    "            train_step(image_batch)\n",
    "            print(\".\", end=\"\")\n",
    "\n",
    "        display.clear_output(wait=True)\n",
    "        predictions = generator(seed)\n",
    "        save_images(epoch+1, predictions)\n",
    "        print(\"\\r{}\".format(epoch), end=\" \")\n",
    "\n",
    "    display.clear_output(wait=True)\n",
    "    predictions = generator(seed)\n",
    "    save_images(epochs, predictions)"
   ],
   "execution_count": 0,
   "outputs": []
  },
  {
   "cell_type": "code",
   "metadata": {
    "pycharm": {
     "name": "#%%\n"
    },
    "id": "OS_RDN7e2gym",
    "colab_type": "code",
    "colab": {
     "base_uri": "https://localhost:8080/",
     "height": 248
    },
    "outputId": "0b812e37-f107-470c-aa5c-2a4632fa6564"
   },
   "source": [
    "train(train_dataset, EPOCHS)"
   ],
   "execution_count": 17,
   "outputs": [
    {
     "output_type": "display_data",
     "data": {
      "image/png": "[encoded data removed]",
      "text/plain": [
       "<Figure size 288x288 with 16 Axes>"
      ]
     },
     "metadata": {
      "tags": [],
      "needs_background": "light"
     }
    }
   ]
  },
  {
   "cell_type": "code",
   "metadata": {
    "pycharm": {
     "name": "#%%\n"
    },
    "id": "-BhaXbNw2gyp",
    "colab_type": "code",
    "colab": {}
   },
   "source": [
    "import imageio\n",
    "import glob\n",
    "\n",
    "anim_file = 'dcgan.gif'\n",
    "\n",
    "with imageio.get_writer(anim_file, mode='I') as writer:\n",
    "  filenames = glob.glob('image*.png')\n",
    "  filenames = sorted(filenames)\n",
    "  last = -1\n",
    "  for i,filename in enumerate(filenames):\n",
    "    frame = 2*(i**0.5)\n",
    "    if round(frame) > round(last):\n",
    "      last = frame\n",
    "    else:\n",
    "      continue\n",
    "    image = imageio.imread(filename)\n",
    "    writer.append_data(image)\n",
    "  image = imageio.imread(filename)\n",
    "  writer.append_data(image)\n"
   ],
   "execution_count": 0,
   "outputs": []
  },
  {
   "cell_type": "code",
   "execution_count": null,
   "outputs": [],
   "source": [],
   "metadata": {
    "collapsed": false,
    "pycharm": {
     "name": "#%%\n"
    }
   }
  },
  {
   "cell_type": "code",
   "metadata": {
    "id": "cONspTyEBt3o",
    "colab_type": "code",
    "colab": {}
   },
   "source": [
    ""
   ],
   "execution_count": 0,
   "outputs": []
  }
 ]
}